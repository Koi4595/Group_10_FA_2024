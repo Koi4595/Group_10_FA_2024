{
 "cells": [
  {
   "cell_type": "markdown",
   "metadata": {},
   "source": [
    "# **Part II: Analysis**\n",
    "team member: Shaoying Zheng, Zhongrui Ning, Xiao Pu\n"
   ]
  },
  {
   "cell_type": "code",
   "execution_count": null,
   "metadata": {},
   "outputs": [],
   "source": [
    "import pandas as pd\n",
    "import numpy as np\n",
    "import matplotlib.pyplot as plt\n",
    "import seaborn as sns\n",
    "from scipy.stats import ttest_ind\n",
    "from wordcloud import WordCloud\n",
    "import matplotlib.ticker as mticker"
   ]
  },
  {
   "cell_type": "code",
   "execution_count": null,
   "metadata": {},
   "outputs": [],
   "source": [
    "# load data\n",
    "df = pd.read_csv('Projectdata/job_company_pair.csv')\n",
    "df.head()"
   ]
  },
  {
   "cell_type": "code",
   "execution_count": null,
   "metadata": {},
   "outputs": [],
   "source": [
    "#df[df['annual_max_salary']<df['annual_med_salary']]"
   ]
  },
  {
   "cell_type": "markdown",
   "metadata": {},
   "source": [
    "## Descriptive Statistics: "
   ]
  },
  {
   "cell_type": "markdown",
   "metadata": {},
   "source": [
    "Firstly, let's check the columns of our data"
   ]
  },
  {
   "cell_type": "code",
   "execution_count": null,
   "metadata": {},
   "outputs": [],
   "source": [
    "df.columns"
   ]
  },
  {
   "cell_type": "markdown",
   "metadata": {},
   "source": [
    "In those columns, `job_id` is the unique value for each job\n",
    "For the purpose of our analysis, which aiming at job hunting recommendation, we would focus on those following columns: \n",
    "- Salary of the job: described by `annual_min_salary`, `annual_med_salary` and `annual_max_salary`\n",
    "- Skills the job needs: described by `skill_abr`, `skill_name` specifically and `skill_catogory` generally. \n",
    "- Size and popularity of the company：described by `employee_count`,`follower_count`, `company_size` and `employee_follower_ratio`\n",
    "- Industry fields: described by `industry_name` and `industry_id`"
   ]
  },
  {
   "cell_type": "markdown",
   "metadata": {},
   "source": [
    "### Salary description"
   ]
  },
  {
   "cell_type": "markdown",
   "metadata": {},
   "source": [
    "`annual_min_salary`, `annual_med_salary` and `annual_max_salary` are all numerical float variables, each columns contains the salary description of the job, but not every job have those three kind of salary descriptions (minimum, median and maximum). "
   ]
  },
  {
   "cell_type": "code",
   "execution_count": null,
   "metadata": {},
   "outputs": [],
   "source": [
    "df[['annual_min_salary', 'annual_med_salary', 'annual_max_salary']].describe().T"
   ]
  },
  {
   "cell_type": "markdown",
   "metadata": {},
   "source": [
    "- We handled the missing values in part 1, and filled all the missing values\n",
    "- In Part I, we have briefly described the relationship between `annual_med_salary` and occupation type/company size. \n",
    "- We didn't use `annual_min_salary` and `annual_max_salary` before. \n",
    "- We may use `annual_med_salary` as the prediction variable. "
   ]
  },
  {
   "cell_type": "markdown",
   "metadata": {},
   "source": [
    "### Skills description"
   ]
  },
  {
   "cell_type": "markdown",
   "metadata": {},
   "source": [
    "`skill_abr`, `skill_name` and `skill_category` are all text variables, contains the arbitrary of the skills, the full name of the skills and the category of the skills. "
   ]
  },
  {
   "cell_type": "code",
   "execution_count": null,
   "metadata": {},
   "outputs": [],
   "source": [
    "df. skill_category.value_counts().describe()"
   ]
  },
  {
   "cell_type": "code",
   "execution_count": null,
   "metadata": {},
   "outputs": [],
   "source": [
    "df. skill_category.value_counts().head(10)"
   ]
  },
  {
   "cell_type": "markdown",
   "metadata": {},
   "source": [
    "As we can see, the top three skill categories in the job market (among others) are business, management, and engineering skills, which partly reflects the popular hiring needs right now."
   ]
  },
  {
   "cell_type": "markdown",
   "metadata": {},
   "source": [
    "### Size and popularity of the company analysis\n",
    "`employee_count`,`follower_count` and `company_size` are columns that describes the number of employees, size of the company and number of followers in Leaderboard, these attributes can help us understand the size of the company and its employees, where the size of the company is described by an integer from 1 to 7, with size increasing with the number"
   ]
  },
  {
   "cell_type": "code",
   "execution_count": null,
   "metadata": {},
   "outputs": [],
   "source": [
    "df[['employee_count', 'follower_count', 'company_size']].describe().T"
   ]
  },
  {
   "cell_type": "markdown",
   "metadata": {},
   "source": [
    "As can be seen from the description, nearly half of the jobs in this dataset come from larger companies, with fewer jobs available at smaller companies, while the number of employees varies considerably among similarly sized companies, which may be related to the industrial sector to which the companies belong to. "
   ]
  },
  {
   "cell_type": "code",
   "execution_count": null,
   "metadata": {},
   "outputs": [],
   "source": [
    "df.employee_follower_ratio.describe()"
   ]
  },
  {
   "cell_type": "markdown",
   "metadata": {},
   "source": [
    "In the analysis of  `emoloyee_follower_ratio`, we can see that the number of employees/followers ratio for each company seems to be very low, which also suggests that the job market is very competitive. "
   ]
  },
  {
   "cell_type": "markdown",
   "metadata": {},
   "source": [
    "### Industry fields analysis"
   ]
  },
  {
   "cell_type": "code",
   "execution_count": null,
   "metadata": {},
   "outputs": [],
   "source": [
    "print('The 10 industrial sectors offering the most jobs', df.industry_name.value_counts().head(10), '\\n')\n",
    "print('The 10 industrial sectors offering the least jobs', df.industry_name.value_counts().tail(10), '\\n')"
   ]
  },
  {
   "cell_type": "markdown",
   "metadata": {},
   "source": [
    "From the analysis we can see that industries such as healthcare and human resources are providing the most jobs, while the industrial sectors that are nearing job saturation are security systems, computer networks, etc., but we can see that these sectors overlap in some ways."
   ]
  },
  {
   "cell_type": "markdown",
   "metadata": {},
   "source": [
    "## Inferential Statistics"
   ]
  },
  {
   "cell_type": "markdown",
   "metadata": {},
   "source": [
    "We've briefly seen the relationship between salary and skill categories .Let's take a deeper look into the salary by different skill categories."
   ]
  },
  {
   "cell_type": "code",
   "execution_count": null,
   "metadata": {},
   "outputs": [],
   "source": [
    "print(df.groupby('skill_category')['annual_med_salary'].describe())"
   ]
  },
  {
   "cell_type": "markdown",
   "metadata": {},
   "source": [
    "We first filter those extreme values before doing tests to the data."
   ]
  },
  {
   "cell_type": "code",
   "execution_count": null,
   "metadata": {},
   "outputs": [],
   "source": [
    "df_filtered = df[(df['annual_med_salary'] >= 7500) & (df['annual_med_salary'] <= 1000000)]"
   ]
  },
  {
   "cell_type": "markdown",
   "metadata": {},
   "source": [
    "Since the distribution of salaries is skewed rather than simply normal, we chose to use the Kruskal-Wallis H Test. \n",
    "\n",
    "We want to check if median salaries have any statistically significant difference between different skill categories to help job seekers to enrich their skills to be more competitive in the workforce and to choose a career in the future based on their own circumstances, preferences, and salary level.\n",
    "\n",
    "**H0: The distribution of median salaries across the different job categories is the same.**\n",
    "\n",
    "**H1: There is at least one job category where the distribution of median salaries is different from the others.**"
   ]
  },
  {
   "cell_type": "markdown",
   "metadata": {},
   "source": [
    "### [Kruskal-Wallis H Test](https://en.wikipedia.org/wiki/Kruskal%E2%80%93Wallis_test)\n",
    "\n",
    "\n",
    "The formula for the Kruskal-Wallis H test is as follows:\n",
    "\n",
    "$$\n",
    "H = \\frac{12}{N(N+1)} \\sum_{i=1}^{k} \\frac{R_i^2}{n_i} - 3(N+1)\n",
    "$$\n",
    "\n",
    "where:\n",
    "\n",
    "- \\( N \\) is the total sample size.\n",
    "- \\( k \\) is the number of categories.\n",
    "- \\( R_i \\) is the rank sum for each group.\n",
    "- \\( n_i \\) is the number of samples in each group.\n",
    "\n"
   ]
  },
  {
   "cell_type": "code",
   "execution_count": null,
   "metadata": {},
   "outputs": [],
   "source": [
    "from scipy.stats import kruskal\n",
    "\n",
    "# Assuming `df` is your DataFrame and `salary` is the column with median salary\n",
    "categories = df_filtered['skill_category'].unique()\n",
    "salaries = [df_filtered[df_filtered['skill_category'] == cat]['annual_med_salary'] for cat in categories]\n",
    "\n",
    "# Perform Kruskal-Wallis test\n",
    "stat, p_value = kruskal(*salaries)\n",
    "\n",
    "print(\"Kruskal-Wallis H-statistic:\", stat)\n",
    "print(\"p-value:\", p_value)\n",
    "\n",
    "# Interpretation\n",
    "if p_value < 0.05:\n",
    "    print(\"There is a statistically significant difference in median salaries between job categories.\")\n",
    "else:\n",
    "    print(\"There is no statistically significant difference in median salaries between job categories.\")\n"
   ]
  },
  {
   "cell_type": "markdown",
   "metadata": {},
   "source": [
    "Based on the Kruskal-Wallis H test, we reject the null hypothesis at the 0.05 significance level. This indicates that there is a statistically significant difference in the distribution of median salaries across different job categories.\n",
    "\n",
    "Let's then add labels to categorize the salary and do some tests."
   ]
  },
  {
   "cell_type": "code",
   "execution_count": null,
   "metadata": {},
   "outputs": [],
   "source": [
    "def categorize_salary(group):\n",
    "    low_salary_threshold = group['annual_med_salary'].quantile(0.25)\n",
    "    high_salary_threshold = group['annual_med_salary'].quantile(0.75)\n",
    "    if (low_salary_threshold==0):\n",
    "        print('found')\n",
    "    #print(f\"Low Salary Threshold: {low_salary_threshold}, High Salary Threshold: {high_salary_threshold}\")\n",
    "    if low_salary_threshold == high_salary_threshold: \n",
    "        if group['annual_med_salary'].min() == group['annual_med_salary'].max():    \n",
    "            group['salary_level'] = 'Medium Salary'\n",
    "            return group\n",
    "        else:     \n",
    "            low_salary_threshold = group['annual_med_salary'].min()\n",
    "            high_salary_threshold = group['annual_med_salary'].max()\n",
    "    group['salary_level'] = pd.cut(group['annual_med_salary'], \n",
    "                                   bins=[0, low_salary_threshold, high_salary_threshold, float('inf')], \n",
    "                                   labels=['Low Salary', 'Medium Salary', 'High Salary'])\n",
    "    return group\n",
    "df_labeled = df.groupby('industry_name').apply(categorize_salary).reset_index(drop=True)\n",
    "\n",
    "#print(df[['industry_name', 'annual_med_salary', 'salary_level']].head())\n"
   ]
  },
  {
   "cell_type": "code",
   "execution_count": null,
   "metadata": {},
   "outputs": [],
   "source": [
    "df_labeled['industry_name'].value_counts().head(10)"
   ]
  },
  {
   "cell_type": "code",
   "execution_count": null,
   "metadata": {},
   "outputs": [],
   "source": [
    "import pandas as pd\n",
    "from scipy.stats import chi2_contingency\n",
    "\n",
    "\n",
    "contingency_table = pd.crosstab(df_labeled['skill_category'], df_labeled['salary_level'])\n",
    "print(contingency_table)\n",
    "\n",
    "#chi2 test\n",
    "chi2, p_value, dof, expected = chi2_contingency(contingency_table)\n",
    "\n",
    "print(\"Chi-square statistic:\", chi2)\n",
    "print(\"p-value:\", p_value)\n",
    "print(\"Degrees of freedom:\", dof)\n",
    "\n",
    "\n",
    "if p_value < 0.05:\n",
    "    print(\"There are significant differences in salary levels across skill categories.\")\n",
    "else:\n",
    "    print(\"There are no significant differences in salary levels across skill categories.\")\n",
    "\n",
    "\n",
    "\n"
   ]
  },
  {
   "cell_type": "code",
   "execution_count": null,
   "metadata": {},
   "outputs": [],
   "source": [
    "observed = contingency_table.values\n",
    "expected = pd.DataFrame(expected, index=contingency_table.index, columns=contingency_table.columns)\n",
    "\n",
    "# calculate deviation\n",
    "deviation = observed - expected\n",
    "\n",
    "\n",
    "print(\"Observed:\\n\", contingency_table)\n",
    "print(\"\\nExpected:\\n\", expected)\n",
    "print(\"\\nDeviation:\\n\", deviation)\n",
    "\n",
    "\n",
    "\n",
    "# calculate std_residuals\n",
    "standardized_residuals = (observed - expected) / np.sqrt(expected)\n",
    "\n",
    "print(\"\\nStandardized Residuals:\\n\", standardized_residuals)\n",
    "\n",
    "\n",
    "plt.figure(figsize=(10, 8))\n",
    "sns.heatmap(standardized_residuals, annot=True, cmap=\"coolwarm\", center=0)\n",
    "plt.title(\"Standardized Residuals Heatmap\")\n",
    "plt.show()\n"
   ]
  },
  {
   "cell_type": "markdown",
   "metadata": {},
   "source": [
    "We see that Technical & Engineering and Legal & Compliance skills tend to relate more with High Salary.\n",
    "Business and Administration skills are predominantly in the Low Salary category.\n"
   ]
  },
  {
   "cell_type": "markdown",
   "metadata": {},
   "source": [
    "## Graphical Analysis"
   ]
  },
  {
   "cell_type": "code",
   "execution_count": null,
   "metadata": {},
   "outputs": [],
   "source": [
    "text = ' '.join(df['skill_name'].dropna())\n",
    "wordcloud = WordCloud(width=800, height=400, background_color='white').generate(text)\n",
    "\n",
    "plt.figure(figsize=(10, 6))\n",
    "plt.imshow(wordcloud, interpolation='bilinear')\n",
    "plt.axis('off')\n",
    "plt.show()"
   ]
  },
  {
   "cell_type": "markdown",
   "metadata": {},
   "source": [
    "We first use word cloud to have a general look at the most common skills accross all industries. It seems that Information technology and sales are the hottest. Let's check this in a more readable way."
   ]
  },
  {
   "cell_type": "code",
   "execution_count": null,
   "metadata": {},
   "outputs": [],
   "source": [
    "skill_counts = df['skill_name'].value_counts().reset_index()\n",
    "skill_counts.columns = ['skill_name', 'count']"
   ]
  },
  {
   "cell_type": "code",
   "execution_count": null,
   "metadata": {},
   "outputs": [],
   "source": [
    "plt.figure(figsize=(12, 6))\n",
    "sns.barplot(data=skill_counts.head(20), x='count', y='skill_name')\n",
    "plt.title(\"Top 20 Most Common Skills Across All Industries\")\n",
    "plt.xlabel(\"Frequency\")\n",
    "plt.ylabel(\"Skill Name\")\n",
    "plt.show()"
   ]
  },
  {
   "cell_type": "markdown",
   "metadata": {},
   "source": [
    "Let's then check the heatmap to see how job requirements vary across different industries."
   ]
  },
  {
   "cell_type": "code",
   "execution_count": null,
   "metadata": {},
   "outputs": [],
   "source": [
    "industry_skill_counts = df.groupby(['industry_name', 'skill_name']).size().unstack(fill_value=0)\n",
    "plt.figure(figsize=(20, 15))\n",
    "sns.heatmap(\n",
    "    industry_skill_counts, \n",
    "    cmap=\"viridis\",  \n",
    "    cbar_kws={'label': 'Skill Frequency'}  \n",
    ")\n",
    "\n",
    "\n",
    "plt.title(\"Skill Frequency by Industry\", fontsize=18)\n",
    "plt.xlabel(\"Skills\", fontsize=14)\n",
    "plt.ylabel(\"Industry\", fontsize=14)\n",
    "\n",
    "\n",
    "plt.xticks(rotation=45, ha='right', fontsize=10)\n",
    "plt.yticks(fontsize=10)\n",
    "plt.show()"
   ]
  },
  {
   "cell_type": "markdown",
   "metadata": {},
   "source": [
    "It's unreadable. So we filter the data."
   ]
  },
  {
   "cell_type": "code",
   "execution_count": null,
   "metadata": {},
   "outputs": [],
   "source": [
    "top_industries = industry_skill_counts.sum(axis=1).nlargest(20).index\n",
    "top_skills = industry_skill_counts.sum(axis=0).nlargest(20).index\n",
    "\n",
    "\n",
    "filtered_data = industry_skill_counts.loc[top_industries, top_skills]\n",
    "\n",
    "plt.figure(figsize=(18, 12))\n",
    "sns.heatmap(\n",
    "    filtered_data, \n",
    "    cmap=\"viridis\", \n",
    "    linewidths=0,  \n",
    "    cbar_kws={'label': 'Skill Frequency'}\n",
    ")\n",
    "\n",
    "\n",
    "plt.title(\"Top Skill Frequency by Industry\", fontsize=20)\n",
    "plt.xlabel(\"Skills\", fontsize=15)\n",
    "plt.ylabel(\"Industry\", fontsize=15)\n",
    "plt.xticks(rotation=45, ha='right', fontsize=12)\n",
    "plt.yticks(fontsize=12)\n",
    "plt.show()"
   ]
  },
  {
   "cell_type": "markdown",
   "metadata": {},
   "source": [
    "We see that skills such as Information Technology, Sales, and Management have high demand across multiple industries, reflecting their importance and versatility in the modern workplace. There are also industry-Specific Skills like healthcare skills in the medical field, engineering skills in manufacturing and do not hold a dominant position in cross-industry comparisons."
   ]
  },
  {
   "cell_type": "code",
   "execution_count": null,
   "metadata": {},
   "outputs": [],
   "source": [
    "# First, let's check difference of scale and influence(i.e., number of employee, number of follower and employee-follower ratio) for companies from different industries\n",
    "# Compute industries with most industries\n",
    "scale= df.groupby('industry_name')[['employee_count', 'follower_count']].sum()\n",
    "scale.reset_index(inplace=True)\n",
    "top_10_scale = scale.sort_values('employee_count',ascending=False).head(10)\n",
    "top_10_scale"
   ]
  },
  {
   "cell_type": "markdown",
   "metadata": {},
   "source": [
    "We can see top 10 industries with the most job postings. We can see that industries with the most job postings are IT, Finance, and Healthcare."
   ]
  },
  {
   "cell_type": "code",
   "execution_count": null,
   "metadata": {},
   "outputs": [],
   "source": [
    "top_10_influence = scale.sort_values('follower_count',ascending=False).head(10)\n",
    "top_10_influence"
   ]
  },
  {
   "cell_type": "markdown",
   "metadata": {},
   "source": [
    "We can see top 10 industries with the most followers. We can see that industries with the most followers are similar to industries with the most job postings, while adding food and beverage services in."
   ]
  },
  {
   "cell_type": "code",
   "execution_count": null,
   "metadata": {},
   "outputs": [],
   "source": [
    "# For different industries within top 10 scale and influence, check the distribution of employee_count, follower_count and employee-follower ratio\n",
    "top_10_industry = list(set(top_10_scale['industry_name']).union(set(top_10_influence['industry_name'])))\n",
    "top_10_industry_df = df[df['industry_name'].isin(top_10_industry)]\n",
    "top_10_industry_df = top_10_industry_df[['industry_name', 'employee_count', 'follower_count', 'employee_follower_ratio']]\n",
    "# create subsets for each industries and draw boxplot\n",
    "fig, ax = plt.subplots(3, 1, figsize=(15, 15))\n",
    "for i, col in enumerate(['employee_count', 'follower_count', 'employee_follower_ratio']):\n",
    "    sns.boxplot(x='industry_name', y=col, data=top_10_industry_df, ax=ax[i],hue = 'industry_name')\n",
    "    ax[i].set_title(col)\n",
    "    ax[i].set_xticklabels(ax[i].get_xticklabels(), rotation=45, ha='right', rotation_mode=\"anchor\")\n",
    "ax[1].yaxis.set_major_formatter(mticker.FuncFormatter(lambda x, _: f'{int(x):,}'))\n",
    "plt.tight_layout()\n",
    "plt.show()"
   ]
  },
  {
   "cell_type": "markdown",
   "metadata": {},
   "source": [
    "We can see that software development and Information services industries have the highest overall employee count overall. Which should be the most popular industries that college students should focus on."
   ]
  },
  {
   "cell_type": "markdown",
   "metadata": {},
   "source": [
    "## Compartive Analysis"
   ]
  },
  {
   "cell_type": "markdown",
   "metadata": {},
   "source": [
    "For this part, we will focus on company size's impact on skill requirements."
   ]
  },
  {
   "cell_type": "code",
   "execution_count": null,
   "metadata": {},
   "outputs": [],
   "source": [
    "# Group by company size\n",
    "company_size_skill = df_labeled.groupby(['company_size','skill_category']).size().unstack()\n",
    "company_size_skill= company_size_skill.div(company_size_skill.sum(axis=1), axis=0) * 100\n",
    "company_size_skill = company_size_skill.fillna(0)\n",
    "company_size_skill.reset_index(inplace=True)\n",
    "# company_size_skill = company_size_skill.melt(id_vars='company_size', var_name='skill_category', value_name='percentage')\n",
    "company_size_skill"
   ]
  },
  {
   "cell_type": "code",
   "execution_count": null,
   "metadata": {},
   "outputs": [],
   "source": [
    "# Draw stacked barplot\n",
    "plt.figure(figsize=(20, 8))\n",
    "company_size_skill.plot(kind='bar', x='company_size',stacked=True, colormap=\"tab20\", figsize=(15, 8))\n",
    "plt.title('Skill Category Distribution by Company Size')\n",
    "plt.xlabel('Company Size')\n",
    "plt.ylabel('Percentage')\n",
    "plt.xticks(rotation=45, ha='right')\n",
    "plt.legend(title='Skill Category')\n",
    "plt.legend(loc='center left', bbox_to_anchor=(1.0, 0.5))\n",
    "plt.tight_layout()\n",
    "plt.show()"
   ]
  },
  {
   "cell_type": "markdown",
   "metadata": {},
   "source": [
    "We can see that the distribution of skill categories is similar across different company sizes. "
   ]
  },
  {
   "cell_type": "markdown",
   "metadata": {},
   "source": [
    "Then, let's check difference of scale and influence(i.e., number of employee, number of follower and employee-follower ratio) for companies from different industries。"
   ]
  },
  {
   "cell_type": "code",
   "execution_count": null,
   "metadata": {},
   "outputs": [],
   "source": [
    "# First, let's check difference of scale and influence(i.e., number of employee, number of follower and employee-follower ratio) for companies from different industries\n",
    "# Compute industries with most industries\n",
    "scale= df.groupby('industry_name')[['employee_count', 'follower_count']].sum()\n",
    "scale.reset_index(inplace=True)\n",
    "top_10_scale = scale.sort_values('employee_count',ascending=False).head(10)\n",
    "top_10_scale"
   ]
  },
  {
   "cell_type": "markdown",
   "metadata": {},
   "source": [
    "We can see top 10 industries with the most job postings. We can see that industries with the most job postings are IT, Finance, and Healthcare."
   ]
  },
  {
   "cell_type": "code",
   "execution_count": null,
   "metadata": {},
   "outputs": [],
   "source": [
    "top_10_influence = scale.sort_values('follower_count',ascending=False).head(10)\n",
    "top_10_influence"
   ]
  },
  {
   "cell_type": "markdown",
   "metadata": {},
   "source": [
    "We can see top 10 industries with the most followers. We can see that industries with the most followers are similar to industries with the most job postings, while adding food and beverage services in."
   ]
  },
  {
   "cell_type": "code",
   "execution_count": null,
   "metadata": {},
   "outputs": [],
   "source": [
    "# For different industries within top 10 scale and influence, check the distribution of employee_count, follower_count and employee-follower ratio\n",
    "top_10_industry = list(set(top_10_scale['industry_name']).union(set(top_10_influence['industry_name'])))\n",
    "top_10_industry_df = df[df['industry_name'].isin(top_10_industry)]\n",
    "top_10_industry_df = top_10_industry_df[['industry_name', 'employee_count', 'follower_count', 'employee_follower_ratio']]\n",
    "# create subsets for each industries and draw boxplot\n",
    "fig, ax = plt.subplots(3, 1, figsize=(15, 15))\n",
    "for i, col in enumerate(['employee_count', 'follower_count', 'employee_follower_ratio']):\n",
    "    sns.boxplot(x='industry_name', y=col, data=top_10_industry_df, ax=ax[i],hue = 'industry_name')\n",
    "    ax[i].set_title(col)\n",
    "    ax[i].set_xticklabels(ax[i].get_xticklabels(), rotation=45, ha='right', rotation_mode=\"anchor\")\n",
    "ax[1].yaxis.set_major_formatter(mticker.FuncFormatter(lambda x, _: f'{int(x):,}'))\n",
    "plt.tight_layout()\n",
    "plt.show()"
   ]
  },
  {
   "cell_type": "markdown",
   "metadata": {},
   "source": [
    "## Multivariate Analysis"
   ]
  },
  {
   "cell_type": "code",
   "execution_count": null,
   "metadata": {},
   "outputs": [],
   "source": [
    "# We want to perform analysis of industry, skill category and salary level, and visualize by cross-tabulation\n",
    "industry_skill_salary = pd.crosstab(\n",
    "    index=[df_labeled['industry_name'], df_labeled['skill_category']], \n",
    "    columns=df_labeled['salary_level'], \n",
    "    margins=True,\n",
    "    margins_name='Total'\n",
    ")\n",
    "industry_skill_salary.reset_index(inplace=True)\n",
    "industry_skill_salary"
   ]
  },
  {
   "cell_type": "code",
   "execution_count": null,
   "metadata": {},
   "outputs": [],
   "source": [
    "# Sort by high salary level\n",
    "industry_skill_salary.sort_values('High Salary', ascending=False, inplace=False).head(5)"
   ]
  },
  {
   "cell_type": "markdown",
   "metadata": {},
   "source": [
    "For all job postings across every industry that offered a high salary, the skill_category is listed as \"other\", which means the job may requires a variety of skills and maybe not suitable for a new graduate job seeker."
   ]
  },
  {
   "cell_type": "code",
   "execution_count": null,
   "metadata": {},
   "outputs": [],
   "source": [
    "# Eliminate skill_category list as 'Other'\n",
    "industry_skill_salary[industry_skill_salary['skill_category'] != 'Other'].sort_values('High Salary', ascending=False)[1:6]"
   ]
  },
  {
   "cell_type": "markdown",
   "metadata": {},
   "source": [
    "Here we can see Technical & Engineering, Finance, and Business are most highly paid skills."
   ]
  },
  {
   "cell_type": "markdown",
   "metadata": {},
   "source": [
    "## Synthesis"
   ]
  },
  {
   "cell_type": "markdown",
   "metadata": {},
   "source": [
    "From our analysis, we were able to get some insight into our original research questions:\n",
    "- What are the most common skills listed in job postings across various industries?\n",
    "\n",
    "- How do job requirements vary across different industries?\n",
    "\n",
    "- How could job hunters with different background find suitable jobs?\n",
    "  \n",
    "  1. In our **descriptive statistics** part,we analyzed salaries for these occupations，chose median salary as our basis of salary analysis, identified common skill requirements across industries (e.g., information technology and data analytics skills are valued across multiple fields), and conducted a preliminary analysis of the types and fundamentals of employer industry sectors across the job market, as well as the potential intensity of competition in the job market. \n",
    "  2. In our **Inferential statistics** part, we used Kruskal-Wallis H Test to analyze if there is a statistically significant difference in median salary between different skill categories. The hypothesis test was validated, indicating that different skill categories do affect salaries, with industries associated with Technical & Engineering and Legal & Compliance skills having relatively higher salaries, while Business and Administration skills possess significantly less salary level. \n",
    "  3. The **graphical statistics** part：We created 3 types of charts to describe and analyze our dataset in a comprehensive way: 1.Using wordcloud map to get the keywords in skill categories and industry names. 2. Using bar charts to count the 20 hottest skills in the job market. 3. Using heat maps to count the correlation between the hottest skills and the industrial sector that the job belongs to, to find the hottest pairings.\n",
    "  4. In our **comparative statistics**, we 1. compare the types of skills required for jobs in companies of different sizes, revealing more visually the differences in job skill preferences between small and large companies. 2. created boxplots with the number of employees, the number of followers, and the ratio of employees/followers of the firms belonging to the different industrial sectors We created box plots of the number of employees, followers, and employee/follower ratio of companies belonging to different industrial sectors to more visually analyze which companies are receiving more attention in the job market.\n",
    "  5. We used industry, salary level and skill categories in our **multivariable statistics**, looking for correlations between salary, type of skill and the type of industry the company belongs to, our results indicate that many jobs having a high salary needs multiple skills that may not suitable for new job hunters, and otherwise, the best-paying skill types are Technical & Engineering, Finance, and Business."
   ]
  },
  {
   "cell_type": "markdown",
   "metadata": {},
   "source": [
    "## Reflection"
   ]
  },
  {
   "cell_type": "markdown",
   "metadata": {},
   "source": [
    "  Our dataset is big including almost all the job posted on linkedin from 2023 to 2024. Despite the challenges we encountered in part 1 when cleaning and merging the dataset, we still faced some new problems in this part. For example, the multiple industry fields in this huge dataset makes it hard to visualize. It was difficult to validate individually and filter them out. Also how to choose the variables and to make our analysis work as well as it should is also a difficult process. But finally we solved those problems. \n",
    "  \n",
    "  The limitations of our analysis come from the presence of implausible data; due to the many missing measurements in the original dataset, we had to fill them in using our methods in Part1, which somewhat affects the validity of our numerical analyses; at the same time, due to the huge number of industry types and skill types, our classification methods/filtering methods may not be able to analyze all variables and potential combinations of analyzed, our report strives to cover the most influential and representative segments of the job market. \n",
    "  \n",
    "  For further research and improvement, we may consider utilizing more powerful data processing methods to obtain more comprehensive results.\n",
    "  1. Use techniques to identify outliers and potential unreasonable/wrong data. \n",
    "  2. Processing and categorizing our lists of industry types and skills more accurately.\n",
    "  3. Which variables are appropriate for predictive analytics and recommendations. "
   ]
  }
 ],
 "metadata": {
  "kernelspec": {
   "display_name": "si618",
   "language": "python",
   "name": "python3"
  },
  "language_info": {
   "codemirror_mode": {
    "name": "ipython",
    "version": 3
   },
   "file_extension": ".py",
   "mimetype": "text/x-python",
   "name": "python",
   "nbconvert_exporter": "python",
   "pygments_lexer": "ipython3",
   "version": "3.12.5"
  }
 },
 "nbformat": 4,
 "nbformat_minor": 4
}
