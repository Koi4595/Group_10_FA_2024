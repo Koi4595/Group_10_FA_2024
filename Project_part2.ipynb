{
 "cells": [
  {
   "cell_type": "markdown",
   "metadata": {},
   "source": [
    "# **Part II: Analysis**\n",
    "team member: Shaoying Zheng, Zhongrui Ning, Xiao Pu\n"
   ]
  },
  {
   "cell_type": "code",
   "execution_count": 1,
   "metadata": {},
   "outputs": [],
   "source": [
    "import pandas as pd\n",
    "import numpy as np\n",
    "import matplotlib.pyplot as plt\n",
    "import seaborn as sns\n",
    "from scipy.stats import ttest_ind"
   ]
  },
  {
   "cell_type": "code",
   "execution_count": 4,
   "metadata": {},
   "outputs": [
    {
     "data": {
      "text/html": [
       "<div>\n",
       "<style scoped>\n",
       "    .dataframe tbody tr th:only-of-type {\n",
       "        vertical-align: middle;\n",
       "    }\n",
       "\n",
       "    .dataframe tbody tr th {\n",
       "        vertical-align: top;\n",
       "    }\n",
       "\n",
       "    .dataframe thead th {\n",
       "        text-align: right;\n",
       "    }\n",
       "</style>\n",
       "<table border=\"1\" class=\"dataframe\">\n",
       "  <thead>\n",
       "    <tr style=\"text-align: right;\">\n",
       "      <th></th>\n",
       "      <th>job_id</th>\n",
       "      <th>company_id</th>\n",
       "      <th>skill_abr</th>\n",
       "      <th>skill_name</th>\n",
       "      <th>industry_id</th>\n",
       "      <th>max_salary</th>\n",
       "      <th>med_salary</th>\n",
       "      <th>min_salary</th>\n",
       "      <th>pay_period</th>\n",
       "      <th>industry_name</th>\n",
       "      <th>name</th>\n",
       "      <th>company_size</th>\n",
       "      <th>country</th>\n",
       "      <th>employee_count</th>\n",
       "      <th>follower_count</th>\n",
       "      <th>employee_follower_ratio</th>\n",
       "      <th>annual_min_salary</th>\n",
       "      <th>annual_max_salary</th>\n",
       "      <th>annual_med_salary</th>\n",
       "      <th>skill_category</th>\n",
       "    </tr>\n",
       "  </thead>\n",
       "  <tbody>\n",
       "    <tr>\n",
       "      <th>0</th>\n",
       "      <td>921716</td>\n",
       "      <td>2774458.0</td>\n",
       "      <td>MRKT</td>\n",
       "      <td>Marketing</td>\n",
       "      <td>44</td>\n",
       "      <td>20.0</td>\n",
       "      <td>NaN</td>\n",
       "      <td>17.0</td>\n",
       "      <td>HOURLY</td>\n",
       "      <td>Real Estate</td>\n",
       "      <td>Corcoran Sawyer Smith</td>\n",
       "      <td>2.0</td>\n",
       "      <td>US</td>\n",
       "      <td>402</td>\n",
       "      <td>2351</td>\n",
       "      <td>0.170991</td>\n",
       "      <td>35360.0</td>\n",
       "      <td>41600.0</td>\n",
       "      <td>61568.0</td>\n",
       "      <td>Creative</td>\n",
       "    </tr>\n",
       "    <tr>\n",
       "      <th>1</th>\n",
       "      <td>921716</td>\n",
       "      <td>2774458.0</td>\n",
       "      <td>SALE</td>\n",
       "      <td>Sales</td>\n",
       "      <td>44</td>\n",
       "      <td>20.0</td>\n",
       "      <td>NaN</td>\n",
       "      <td>17.0</td>\n",
       "      <td>HOURLY</td>\n",
       "      <td>Real Estate</td>\n",
       "      <td>Corcoran Sawyer Smith</td>\n",
       "      <td>2.0</td>\n",
       "      <td>US</td>\n",
       "      <td>402</td>\n",
       "      <td>2351</td>\n",
       "      <td>0.170991</td>\n",
       "      <td>35360.0</td>\n",
       "      <td>41600.0</td>\n",
       "      <td>61568.0</td>\n",
       "      <td>Business</td>\n",
       "    </tr>\n",
       "    <tr>\n",
       "      <th>2</th>\n",
       "      <td>10998357</td>\n",
       "      <td>64896719.0</td>\n",
       "      <td>MGMT</td>\n",
       "      <td>Management</td>\n",
       "      <td>32</td>\n",
       "      <td>65000.0</td>\n",
       "      <td>NaN</td>\n",
       "      <td>45000.0</td>\n",
       "      <td>YEARLY</td>\n",
       "      <td>Restaurants</td>\n",
       "      <td>The National Exemplar</td>\n",
       "      <td>1.0</td>\n",
       "      <td>US</td>\n",
       "      <td>15</td>\n",
       "      <td>40</td>\n",
       "      <td>0.375000</td>\n",
       "      <td>45000.0</td>\n",
       "      <td>65000.0</td>\n",
       "      <td>88000.0</td>\n",
       "      <td>Administration</td>\n",
       "    </tr>\n",
       "    <tr>\n",
       "      <th>3</th>\n",
       "      <td>10998357</td>\n",
       "      <td>64896719.0</td>\n",
       "      <td>MNFC</td>\n",
       "      <td>Manufacturing</td>\n",
       "      <td>32</td>\n",
       "      <td>65000.0</td>\n",
       "      <td>NaN</td>\n",
       "      <td>45000.0</td>\n",
       "      <td>YEARLY</td>\n",
       "      <td>Restaurants</td>\n",
       "      <td>The National Exemplar</td>\n",
       "      <td>1.0</td>\n",
       "      <td>US</td>\n",
       "      <td>15</td>\n",
       "      <td>40</td>\n",
       "      <td>0.375000</td>\n",
       "      <td>45000.0</td>\n",
       "      <td>65000.0</td>\n",
       "      <td>88000.0</td>\n",
       "      <td>Other</td>\n",
       "    </tr>\n",
       "    <tr>\n",
       "      <th>4</th>\n",
       "      <td>23221523</td>\n",
       "      <td>766262.0</td>\n",
       "      <td>OTHR</td>\n",
       "      <td>Other</td>\n",
       "      <td>9</td>\n",
       "      <td>175000.0</td>\n",
       "      <td>NaN</td>\n",
       "      <td>140000.0</td>\n",
       "      <td>YEARLY</td>\n",
       "      <td>Law Practice</td>\n",
       "      <td>Abrams Fensterman, LLP</td>\n",
       "      <td>2.0</td>\n",
       "      <td>US</td>\n",
       "      <td>222</td>\n",
       "      <td>2427</td>\n",
       "      <td>0.091471</td>\n",
       "      <td>140000.0</td>\n",
       "      <td>175000.0</td>\n",
       "      <td>252000.0</td>\n",
       "      <td>Other</td>\n",
       "    </tr>\n",
       "  </tbody>\n",
       "</table>\n",
       "</div>"
      ],
      "text/plain": [
       "     job_id  company_id skill_abr     skill_name  industry_id  max_salary  \\\n",
       "0    921716   2774458.0      MRKT      Marketing           44        20.0   \n",
       "1    921716   2774458.0      SALE          Sales           44        20.0   \n",
       "2  10998357  64896719.0      MGMT     Management           32     65000.0   \n",
       "3  10998357  64896719.0      MNFC  Manufacturing           32     65000.0   \n",
       "4  23221523    766262.0      OTHR          Other            9    175000.0   \n",
       "\n",
       "   med_salary  min_salary pay_period industry_name                    name  \\\n",
       "0         NaN        17.0     HOURLY   Real Estate   Corcoran Sawyer Smith   \n",
       "1         NaN        17.0     HOURLY   Real Estate   Corcoran Sawyer Smith   \n",
       "2         NaN     45000.0     YEARLY   Restaurants  The National Exemplar    \n",
       "3         NaN     45000.0     YEARLY   Restaurants  The National Exemplar    \n",
       "4         NaN    140000.0     YEARLY  Law Practice  Abrams Fensterman, LLP   \n",
       "\n",
       "   company_size country  employee_count  follower_count  \\\n",
       "0           2.0      US             402            2351   \n",
       "1           2.0      US             402            2351   \n",
       "2           1.0      US              15              40   \n",
       "3           1.0      US              15              40   \n",
       "4           2.0      US             222            2427   \n",
       "\n",
       "   employee_follower_ratio  annual_min_salary  annual_max_salary  \\\n",
       "0                 0.170991            35360.0            41600.0   \n",
       "1                 0.170991            35360.0            41600.0   \n",
       "2                 0.375000            45000.0            65000.0   \n",
       "3                 0.375000            45000.0            65000.0   \n",
       "4                 0.091471           140000.0           175000.0   \n",
       "\n",
       "   annual_med_salary  skill_category  \n",
       "0            61568.0        Creative  \n",
       "1            61568.0        Business  \n",
       "2            88000.0  Administration  \n",
       "3            88000.0           Other  \n",
       "4           252000.0           Other  "
      ]
     },
     "execution_count": 4,
     "metadata": {},
     "output_type": "execute_result"
    }
   ],
   "source": [
    "# load data\n",
    "df = pd.read_csv('./Projectdata/job_company_pair.csv')\n",
    "df.head()"
   ]
  },
  {
   "cell_type": "markdown",
   "metadata": {},
   "source": [
    "## Descriptive Statistics: "
   ]
  },
  {
   "cell_type": "markdown",
   "metadata": {},
   "source": []
  },
  {
   "cell_type": "markdown",
   "metadata": {},
   "source": [
    "## Inferential Statistics"
   ]
  },
  {
   "cell_type": "code",
   "execution_count": null,
   "metadata": {},
   "outputs": [],
   "source": []
  },
  {
   "cell_type": "markdown",
   "metadata": {},
   "source": [
    "## Graphical Analysis"
   ]
  },
  {
   "cell_type": "code",
   "execution_count": null,
   "metadata": {},
   "outputs": [],
   "source": []
  },
  {
   "cell_type": "markdown",
   "metadata": {},
   "source": [
    "## Compartive Analysis"
   ]
  },
  {
   "cell_type": "code",
   "execution_count": null,
   "metadata": {},
   "outputs": [],
   "source": []
  },
  {
   "cell_type": "markdown",
   "metadata": {},
   "source": [
    "## Multivariate Analysis"
   ]
  },
  {
   "cell_type": "code",
   "execution_count": null,
   "metadata": {},
   "outputs": [],
   "source": []
  },
  {
   "cell_type": "markdown",
   "metadata": {},
   "source": [
    "## Synthesis"
   ]
  },
  {
   "cell_type": "code",
   "execution_count": null,
   "metadata": {},
   "outputs": [],
   "source": []
  },
  {
   "cell_type": "markdown",
   "metadata": {},
   "source": [
    "## Reflection"
   ]
  },
  {
   "cell_type": "markdown",
   "metadata": {},
   "source": []
  }
 ],
 "metadata": {
  "kernelspec": {
   "display_name": "Python 3",
   "language": "python",
   "name": "python3"
  },
  "language_info": {
   "codemirror_mode": {
    "name": "ipython",
    "version": 3
   },
   "file_extension": ".py",
   "mimetype": "text/x-python",
   "name": "python",
   "nbconvert_exporter": "python",
   "pygments_lexer": "ipython3",
   "version": "3.12.1"
  }
 },
 "nbformat": 4,
 "nbformat_minor": 2
}
