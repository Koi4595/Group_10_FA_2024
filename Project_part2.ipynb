{
 "cells": [
  {
   "cell_type": "markdown",
   "metadata": {},
   "source": [
    "# **Part II: Analysis**\n",
    "team member: Shaoying Zheng, Zhongrui Ning, Xiao Pu\n"
   ]
  },
  {
   "cell_type": "code",
   "execution_count": 2,
   "metadata": {},
   "outputs": [],
   "source": [
    "import pandas as pd\n",
    "import numpy as np\n",
    "import matplotlib.pyplot as plt\n",
    "import seaborn as sns\n",
    "from scipy.stats import ttest_ind"
   ]
  },
  {
   "cell_type": "code",
   "execution_count": 3,
   "metadata": {},
   "outputs": [
    {
     "data": {
      "text/html": [
       "<div>\n",
       "<style scoped>\n",
       "    .dataframe tbody tr th:only-of-type {\n",
       "        vertical-align: middle;\n",
       "    }\n",
       "\n",
       "    .dataframe tbody tr th {\n",
       "        vertical-align: top;\n",
       "    }\n",
       "\n",
       "    .dataframe thead th {\n",
       "        text-align: right;\n",
       "    }\n",
       "</style>\n",
       "<table border=\"1\" class=\"dataframe\">\n",
       "  <thead>\n",
       "    <tr style=\"text-align: right;\">\n",
       "      <th></th>\n",
       "      <th>job_id</th>\n",
       "      <th>company_id</th>\n",
       "      <th>skill_abr</th>\n",
       "      <th>skill_name</th>\n",
       "      <th>industry_id</th>\n",
       "      <th>max_salary</th>\n",
       "      <th>med_salary</th>\n",
       "      <th>min_salary</th>\n",
       "      <th>pay_period</th>\n",
       "      <th>industry_name</th>\n",
       "      <th>name</th>\n",
       "      <th>company_size</th>\n",
       "      <th>country</th>\n",
       "      <th>employee_count</th>\n",
       "      <th>follower_count</th>\n",
       "      <th>employee_follower_ratio</th>\n",
       "      <th>annual_min_salary</th>\n",
       "      <th>annual_max_salary</th>\n",
       "      <th>annual_med_salary</th>\n",
       "      <th>skill_category</th>\n",
       "    </tr>\n",
       "  </thead>\n",
       "  <tbody>\n",
       "    <tr>\n",
       "      <th>0</th>\n",
       "      <td>921716</td>\n",
       "      <td>2774458.0</td>\n",
       "      <td>MRKT</td>\n",
       "      <td>Marketing</td>\n",
       "      <td>44</td>\n",
       "      <td>20.0</td>\n",
       "      <td>NaN</td>\n",
       "      <td>17.0</td>\n",
       "      <td>HOURLY</td>\n",
       "      <td>Real Estate</td>\n",
       "      <td>Corcoran Sawyer Smith</td>\n",
       "      <td>2.0</td>\n",
       "      <td>US</td>\n",
       "      <td>402</td>\n",
       "      <td>2351</td>\n",
       "      <td>0.170991</td>\n",
       "      <td>35360.0</td>\n",
       "      <td>41600.0</td>\n",
       "      <td>61568.0</td>\n",
       "      <td>Creative</td>\n",
       "    </tr>\n",
       "    <tr>\n",
       "      <th>1</th>\n",
       "      <td>921716</td>\n",
       "      <td>2774458.0</td>\n",
       "      <td>SALE</td>\n",
       "      <td>Sales</td>\n",
       "      <td>44</td>\n",
       "      <td>20.0</td>\n",
       "      <td>NaN</td>\n",
       "      <td>17.0</td>\n",
       "      <td>HOURLY</td>\n",
       "      <td>Real Estate</td>\n",
       "      <td>Corcoran Sawyer Smith</td>\n",
       "      <td>2.0</td>\n",
       "      <td>US</td>\n",
       "      <td>402</td>\n",
       "      <td>2351</td>\n",
       "      <td>0.170991</td>\n",
       "      <td>35360.0</td>\n",
       "      <td>41600.0</td>\n",
       "      <td>61568.0</td>\n",
       "      <td>Business</td>\n",
       "    </tr>\n",
       "    <tr>\n",
       "      <th>2</th>\n",
       "      <td>10998357</td>\n",
       "      <td>64896719.0</td>\n",
       "      <td>MGMT</td>\n",
       "      <td>Management</td>\n",
       "      <td>32</td>\n",
       "      <td>65000.0</td>\n",
       "      <td>NaN</td>\n",
       "      <td>45000.0</td>\n",
       "      <td>YEARLY</td>\n",
       "      <td>Restaurants</td>\n",
       "      <td>The National Exemplar</td>\n",
       "      <td>1.0</td>\n",
       "      <td>US</td>\n",
       "      <td>15</td>\n",
       "      <td>40</td>\n",
       "      <td>0.375000</td>\n",
       "      <td>45000.0</td>\n",
       "      <td>65000.0</td>\n",
       "      <td>88000.0</td>\n",
       "      <td>Administration</td>\n",
       "    </tr>\n",
       "    <tr>\n",
       "      <th>3</th>\n",
       "      <td>10998357</td>\n",
       "      <td>64896719.0</td>\n",
       "      <td>MNFC</td>\n",
       "      <td>Manufacturing</td>\n",
       "      <td>32</td>\n",
       "      <td>65000.0</td>\n",
       "      <td>NaN</td>\n",
       "      <td>45000.0</td>\n",
       "      <td>YEARLY</td>\n",
       "      <td>Restaurants</td>\n",
       "      <td>The National Exemplar</td>\n",
       "      <td>1.0</td>\n",
       "      <td>US</td>\n",
       "      <td>15</td>\n",
       "      <td>40</td>\n",
       "      <td>0.375000</td>\n",
       "      <td>45000.0</td>\n",
       "      <td>65000.0</td>\n",
       "      <td>88000.0</td>\n",
       "      <td>Other</td>\n",
       "    </tr>\n",
       "    <tr>\n",
       "      <th>4</th>\n",
       "      <td>23221523</td>\n",
       "      <td>766262.0</td>\n",
       "      <td>OTHR</td>\n",
       "      <td>Other</td>\n",
       "      <td>9</td>\n",
       "      <td>175000.0</td>\n",
       "      <td>NaN</td>\n",
       "      <td>140000.0</td>\n",
       "      <td>YEARLY</td>\n",
       "      <td>Law Practice</td>\n",
       "      <td>Abrams Fensterman, LLP</td>\n",
       "      <td>2.0</td>\n",
       "      <td>US</td>\n",
       "      <td>222</td>\n",
       "      <td>2427</td>\n",
       "      <td>0.091471</td>\n",
       "      <td>140000.0</td>\n",
       "      <td>175000.0</td>\n",
       "      <td>252000.0</td>\n",
       "      <td>Other</td>\n",
       "    </tr>\n",
       "  </tbody>\n",
       "</table>\n",
       "</div>"
      ],
      "text/plain": [
       "     job_id  company_id skill_abr     skill_name  industry_id  max_salary  \\\n",
       "0    921716   2774458.0      MRKT      Marketing           44        20.0   \n",
       "1    921716   2774458.0      SALE          Sales           44        20.0   \n",
       "2  10998357  64896719.0      MGMT     Management           32     65000.0   \n",
       "3  10998357  64896719.0      MNFC  Manufacturing           32     65000.0   \n",
       "4  23221523    766262.0      OTHR          Other            9    175000.0   \n",
       "\n",
       "   med_salary  min_salary pay_period industry_name                    name  \\\n",
       "0         NaN        17.0     HOURLY   Real Estate   Corcoran Sawyer Smith   \n",
       "1         NaN        17.0     HOURLY   Real Estate   Corcoran Sawyer Smith   \n",
       "2         NaN     45000.0     YEARLY   Restaurants  The National Exemplar    \n",
       "3         NaN     45000.0     YEARLY   Restaurants  The National Exemplar    \n",
       "4         NaN    140000.0     YEARLY  Law Practice  Abrams Fensterman, LLP   \n",
       "\n",
       "   company_size country  employee_count  follower_count  \\\n",
       "0           2.0      US             402            2351   \n",
       "1           2.0      US             402            2351   \n",
       "2           1.0      US              15              40   \n",
       "3           1.0      US              15              40   \n",
       "4           2.0      US             222            2427   \n",
       "\n",
       "   employee_follower_ratio  annual_min_salary  annual_max_salary  \\\n",
       "0                 0.170991            35360.0            41600.0   \n",
       "1                 0.170991            35360.0            41600.0   \n",
       "2                 0.375000            45000.0            65000.0   \n",
       "3                 0.375000            45000.0            65000.0   \n",
       "4                 0.091471           140000.0           175000.0   \n",
       "\n",
       "   annual_med_salary  skill_category  \n",
       "0            61568.0        Creative  \n",
       "1            61568.0        Business  \n",
       "2            88000.0  Administration  \n",
       "3            88000.0           Other  \n",
       "4           252000.0           Other  "
      ]
     },
     "execution_count": 3,
     "metadata": {},
     "output_type": "execute_result"
    }
   ],
   "source": [
    "# load data\n",
    "df = pd.read_csv('./Projectdata/job_company_pair.csv')\n",
    "df.head()"
   ]
  },
  {
   "cell_type": "markdown",
   "metadata": {},
   "source": [
    "## Descriptive Statistics: "
   ]
  },
  {
   "cell_type": "markdown",
   "metadata": {},
   "source": [
    "Firstly, let's check the columns of our data"
   ]
  },
  {
   "cell_type": "code",
   "execution_count": 4,
   "metadata": {},
   "outputs": [
    {
     "data": {
      "text/plain": [
       "Index(['job_id', 'company_id', 'skill_abr', 'skill_name', 'industry_id',\n",
       "       'max_salary', 'med_salary', 'min_salary', 'pay_period', 'industry_name',\n",
       "       'name', 'company_size', 'country', 'employee_count', 'follower_count',\n",
       "       'employee_follower_ratio', 'annual_min_salary', 'annual_max_salary',\n",
       "       'annual_med_salary', 'skill_category'],\n",
       "      dtype='object')"
      ]
     },
     "execution_count": 4,
     "metadata": {},
     "output_type": "execute_result"
    }
   ],
   "source": [
    "df.columns"
   ]
  },
  {
   "cell_type": "markdown",
   "metadata": {},
   "source": [
    "In those columns, `job_id` is the unique value for each job\n",
    "For the purpose of our analysis, which aiming at job hunting recommendation, we would focus on those following columns: \n",
    "- Salary of the job: described by `annual_min_salary`, `annual_med_salary` and `annual_max_salary`\n",
    "- Skills the job needs: described by `skill_abr`, `skill_name` specifically and `skill_catogory` generally. \n",
    "- Size and popularity of the company：described by `employee_count`,`follower_count`, `company_size` and `employee_follower_ratio`\n",
    "- Industry fields: described by 'industry_name' and 'industry_id'"
   ]
  },
  {
   "cell_type": "markdown",
   "metadata": {},
   "source": [
    "What are the most common skills listed in job postings across various industries?\n",
    "What we hope to learn: By identifying the most frequently mentioned skills, we hope to find some \"universal\" skills in this era.\n",
    "\n",
    "How do job requirements vary across different industries?\n",
    "What we hope to learn: We hope to identify the unique skills and qualifications required in different industries, which can help job seekers better understand the job market and make informed decisions.\n",
    "\n",
    "How could job hunters with different background find suitable jobs?\n",
    "What we hope to learn: We hope to build a model that can provide job recommendations based on the applicant's background information, such as education, skills, and industry preference. Also, we hope to explore how the model can adapt to incomplete information.\n",
    "(暂时看一下问题的，之后要删掉)"
   ]
  },
  {
   "cell_type": "markdown",
   "metadata": {},
   "source": [
    "### Salary description"
   ]
  },
  {
   "cell_type": "markdown",
   "metadata": {},
   "source": [
    "`annual_min_salary`, `annual_med_salary` and `annual_max_salary` are all numerical float variables, each columns contains the salary description of the job, but not every job have those three kind of salary descriptions (minimum, median and maximum). "
   ]
  },
  {
   "cell_type": "code",
   "execution_count": 5,
   "metadata": {},
   "outputs": [
    {
     "data": {
      "text/html": [
       "<div>\n",
       "<style scoped>\n",
       "    .dataframe tbody tr th:only-of-type {\n",
       "        vertical-align: middle;\n",
       "    }\n",
       "\n",
       "    .dataframe tbody tr th {\n",
       "        vertical-align: top;\n",
       "    }\n",
       "\n",
       "    .dataframe thead th {\n",
       "        text-align: right;\n",
       "    }\n",
       "</style>\n",
       "<table border=\"1\" class=\"dataframe\">\n",
       "  <thead>\n",
       "    <tr style=\"text-align: right;\">\n",
       "      <th></th>\n",
       "      <th>count</th>\n",
       "      <th>mean</th>\n",
       "      <th>std</th>\n",
       "      <th>min</th>\n",
       "      <th>25%</th>\n",
       "      <th>50%</th>\n",
       "      <th>75%</th>\n",
       "      <th>max</th>\n",
       "    </tr>\n",
       "  </thead>\n",
       "  <tbody>\n",
       "    <tr>\n",
       "      <th>annual_min_salary</th>\n",
       "      <td>307895.0</td>\n",
       "      <td>128614.925247</td>\n",
       "      <td>3.112777e+06</td>\n",
       "      <td>1.0</td>\n",
       "      <td>37960.0</td>\n",
       "      <td>69800.0</td>\n",
       "      <td>105930.0</td>\n",
       "      <td>499200000.0</td>\n",
       "    </tr>\n",
       "    <tr>\n",
       "      <th>annual_med_salary</th>\n",
       "      <td>307895.0</td>\n",
       "      <td>241940.591169</td>\n",
       "      <td>5.256339e+06</td>\n",
       "      <td>1.0</td>\n",
       "      <td>75712.0</td>\n",
       "      <td>130090.4</td>\n",
       "      <td>207200.0</td>\n",
       "      <td>856960000.0</td>\n",
       "    </tr>\n",
       "    <tr>\n",
       "      <th>annual_max_salary</th>\n",
       "      <td>307895.0</td>\n",
       "      <td>180584.920583</td>\n",
       "      <td>3.704833e+06</td>\n",
       "      <td>1.0</td>\n",
       "      <td>60250.7</td>\n",
       "      <td>98400.0</td>\n",
       "      <td>151840.0</td>\n",
       "      <td>572000000.0</td>\n",
       "    </tr>\n",
       "  </tbody>\n",
       "</table>\n",
       "</div>"
      ],
      "text/plain": [
       "                      count           mean           std  min      25%  \\\n",
       "annual_min_salary  307895.0  128614.925247  3.112777e+06  1.0  37960.0   \n",
       "annual_med_salary  307895.0  241940.591169  5.256339e+06  1.0  75712.0   \n",
       "annual_max_salary  307895.0  180584.920583  3.704833e+06  1.0  60250.7   \n",
       "\n",
       "                        50%       75%          max  \n",
       "annual_min_salary   69800.0  105930.0  499200000.0  \n",
       "annual_med_salary  130090.4  207200.0  856960000.0  \n",
       "annual_max_salary   98400.0  151840.0  572000000.0  "
      ]
     },
     "execution_count": 5,
     "metadata": {},
     "output_type": "execute_result"
    }
   ],
   "source": [
    "df[['annual_min_salary', 'annual_med_salary', 'annual_max_salary']].describe().T"
   ]
  },
  {
   "cell_type": "markdown",
   "metadata": {},
   "source": [
    "- We handled the missing values in part 1, and filled all the missing values\n",
    "- In Part I, we have briefly described the relationship between `annual_med_salary` and occupation type/company size. \n",
    "- We didn't use `annual_min_salary` and `annual_max_salary` before. \n",
    "- We may use `annual_med_salary` as the prediction variable. "
   ]
  },
  {
   "cell_type": "markdown",
   "metadata": {},
   "source": [
    "### Skills description"
   ]
  },
  {
   "cell_type": "markdown",
   "metadata": {},
   "source": [
    "`skill_abr`, `skill_name` and `skill_category` are all text variables, contains the arbitrary of the skills, the full name of the skills and the category of the skills. "
   ]
  },
  {
   "cell_type": "code",
   "execution_count": 10,
   "metadata": {},
   "outputs": [
    {
     "data": {
      "text/plain": [
       "count         9.000000\n",
       "mean      34210.555556\n",
       "std       40375.064517\n",
       "min        1066.000000\n",
       "25%        4552.000000\n",
       "50%       28084.000000\n",
       "75%       37179.000000\n",
       "max      132184.000000\n",
       "Name: count, dtype: float64"
      ]
     },
     "execution_count": 10,
     "metadata": {},
     "output_type": "execute_result"
    }
   ],
   "source": [
    "df. skill_category.value_counts().describe()"
   ]
  },
  {
   "cell_type": "code",
   "execution_count": 11,
   "metadata": {},
   "outputs": [
    {
     "data": {
      "text/plain": [
       "skill_category\n",
       "Other                      132184\n",
       "Administration              48252\n",
       "Business                    37179\n",
       "Technical & Engineering     36144\n",
       "Finance                     28084\n",
       "Creative                    15942\n",
       "Legal & Compliance           4552\n",
       "Human Resources              4492\n",
       "Logistics & Operations       1066\n",
       "Name: count, dtype: int64"
      ]
     },
     "execution_count": 11,
     "metadata": {},
     "output_type": "execute_result"
    }
   ],
   "source": [
    "df. skill_category.value_counts().head(10)"
   ]
  },
  {
   "cell_type": "markdown",
   "metadata": {},
   "source": []
  },
  {
   "cell_type": "markdown",
   "metadata": {},
   "source": [
    "## Inferential Statistics"
   ]
  },
  {
   "cell_type": "code",
   "execution_count": null,
   "metadata": {},
   "outputs": [],
   "source": []
  },
  {
   "cell_type": "markdown",
   "metadata": {},
   "source": [
    "## Graphical Analysis"
   ]
  },
  {
   "cell_type": "code",
   "execution_count": null,
   "metadata": {},
   "outputs": [],
   "source": []
  },
  {
   "cell_type": "markdown",
   "metadata": {},
   "source": [
    "## Compartive Analysis"
   ]
  },
  {
   "cell_type": "code",
   "execution_count": null,
   "metadata": {},
   "outputs": [],
   "source": []
  },
  {
   "cell_type": "markdown",
   "metadata": {},
   "source": [
    "## Multivariate Analysis"
   ]
  },
  {
   "cell_type": "code",
   "execution_count": null,
   "metadata": {},
   "outputs": [],
   "source": []
  },
  {
   "cell_type": "markdown",
   "metadata": {},
   "source": [
    "## Synthesis"
   ]
  },
  {
   "cell_type": "code",
   "execution_count": null,
   "metadata": {},
   "outputs": [],
   "source": []
  },
  {
   "cell_type": "markdown",
   "metadata": {},
   "source": [
    "## Reflection"
   ]
  },
  {
   "cell_type": "markdown",
   "metadata": {},
   "source": []
  }
 ],
 "metadata": {
  "kernelspec": {
   "display_name": "Python 3",
   "language": "python",
   "name": "python3"
  },
  "language_info": {
   "codemirror_mode": {
    "name": "ipython",
    "version": 3
   },
   "file_extension": ".py",
   "mimetype": "text/x-python",
   "name": "python",
   "nbconvert_exporter": "python",
   "pygments_lexer": "ipython3",
   "version": "3.12.1"
  }
 },
 "nbformat": 4,
 "nbformat_minor": 2
}
