{
  "cells": [
    {
      "cell_type": "markdown",
      "metadata": {
        "id": "IFJRTOWhZbVq"
      },
      "source": [
        "# **Project Title: Make Job Hunting Easier: LinkedIn Job Recommendation Based on Applicants' Description**\n",
        "\n",
        "team member: Shaoying Zheng, Zhongrui Ning, Xiao Pu\n"
      ]
    },
    {
      "cell_type": "markdown",
      "metadata": {
        "id": "mM6suXKOa2EZ"
      },
      "source": [
        "# **Overview**"
      ]
    },
    {
      "cell_type": "markdown",
      "metadata": {
        "id": "-mEgdENYbbsC"
      },
      "source": [
        "Our project hopes to match the most suitable job in the LinkedIn system with the information provided by the applicant, including their education, skills, ideal industry, ideal salary, etc. Ideally, the model we build will be adaptive, it can adjust and provide suitable job matches even with incomplete details."
      ]
    },
    {
      "cell_type": "markdown",
      "metadata": {
        "id": "ZoBlFkfZdHm5"
      },
      "source": [
        "# **Motivation**"
      ]
    },
    {
      "cell_type": "markdown",
      "metadata": {
        "id": "67nDosfpL-cb"
      },
      "source": [
        "Job haunting process for college students is daunting, especially in today's rapidly evolving labor market, where new-graduate job seekers are faced with an overwhelming number of job postings. When going through job application websites or apps like LinkedIn, many applicants spend a considerable amount of time filtering through irrelevant or unsuitable jobs, leading to inefficiency and frustration. Therefore, developing a smart, data-driven recommendation system that can make job hunting more personalized, efficient, and tailored to each individual's profile would provide immense value to job seekers.\n",
        "\n",
        "Here are several specific questions we aim to explore:\n",
        "1. What are the most common skills listed in job postings across various industries?\n",
        "\n",
        "  What we hope to learn: By identifying the most frequently mentioned skills, we hope to find some \"universal\" skills in this era.\n",
        "2. How could job hunters with different background find suitable jobs?\n",
        "\n",
        "\n"
      ]
    },
    {
      "cell_type": "markdown",
      "metadata": {
        "id": "atZYy3eDblyo"
      },
      "source": [
        "# **Data Sources**"
      ]
    },
    {
      "cell_type": "markdown",
      "metadata": {
        "id": "peHyI7EMIiH9"
      },
      "source": [
        "Source: LinkedIn Job Postings (2023 - 2024)\n",
        "- A Snapshot Into the Current Job Market including company, jobs and mapping datasets.\n",
        "https://www.kaggle.com/datasets/arshkon/linkedin-job-postingslo\n",
        "This data source contains a nearly comprehensive record of 124,000+ job postings listed in 2023 and 2024. Each individual posting contains dozens of valuable attributes for both postings and companies, including the title, job description, salary, location, application URL, and work-types (remote, contract, etc), in addition to separate files containing the benefits, skills, and industries associated with each posting.\n"
      ]
    },
    {
      "cell_type": "markdown",
      "metadata": {
        "id": "L5ST87JRbvyv"
      },
      "source": [
        "# **Data description**"
      ]
    },
    {
      "cell_type": "markdown",
      "metadata": {
        "id": "0NLblAkTfcIg"
      },
      "source": [
        "We use ER diagram to descibe the relationship between dataframes and columns.\n",
        "1. companies\n",
        "2. company_industries\n",
        "3. employee_counts\n",
        "4."
      ]
    },
    {
      "cell_type": "code",
      "execution_count": 1,
      "metadata": {
        "id": "vqAMhax9b2bD"
      },
      "outputs": [],
      "source": [
        "import pandas as pd\n",
        "import numpy as np\n",
        "import matplotlib.pyplot as plt\n",
        "import seaborn as sns\n",
        "import os"
      ]
    },
    {
      "cell_type": "code",
      "execution_count": 2,
      "metadata": {
        "id": "iBaeKTITd3AK"
      },
      "outputs": [],
      "source": [
        "# import the csv files and save as pddataframes\n",
        "companies = pd.read_csv('https://raw.githubusercontent.com/Koi4595/SI-618-FA-2024/refs/heads/main/Projectdata/company/companies.csv')\n",
        "company_industries = pd.read_csv('https://raw.githubusercontent.com/Koi4595/SI-618-FA-2024/refs/heads/main/Projectdata/company/company_industries.csv')\n",
        "job_industries = pd.read_csv('https://raw.githubusercontent.com/Koi4595/SI-618-FA-2024/refs/heads/main/Projectdata/jobs/job_industries.csv')\n",
        "employee_counts = pd.read_csv('https://raw.githubusercontent.com/Koi4595/SI-618-FA-2024/refs/heads/main/Projectdata/company/employee_counts.csv')\n",
        "# benefits = pd.read_csv('https://raw.githubusercontent.com/Koi4595/SI-618-FA-2024/refs/heads/main/Projectdata/jobs/benefits.csv')\n",
        "skills = pd.read_csv('https://raw.githubusercontent.com/Koi4595/SI-618-FA-2024/refs/heads/main/Projectdata/mappings/skills.csv')\n"
      ]
    },
    {
      "cell_type": "code",
      "execution_count": 3,
      "metadata": {
        "colab": {
          "base_uri": "https://localhost:8080/"
        },
        "id": "Rxy3dQpMU0yV",
        "outputId": "a70d1fe1-c2e7-4c97-dad4-47643b45c18d"
      },
      "outputs": [
        {
          "name": "stdout",
          "output_type": "stream",
          "text": [
            "company_id         0\n",
            "name               1\n",
            "description      297\n",
            "company_size    2774\n",
            "state             22\n",
            "country            0\n",
            "city               1\n",
            "zip_code          28\n",
            "address           22\n",
            "url                0\n",
            "dtype: int64\n",
            "company_id        0\n",
            "employee_count    0\n",
            "follower_count    0\n",
            "time_recorded     0\n",
            "dtype: int64\n",
            "company_id    0\n",
            "industry      0\n",
            "dtype: int64\n",
            "job_id         0\n",
            "industry_id    0\n",
            "dtype: int64\n",
            "skill_abr     0\n",
            "skill_name    0\n",
            "dtype: int64\n"
          ]
        }
      ],
      "source": [
        "# looking at the missing values of dataframes\n",
        "print(companies.isnull().sum())\n",
        "print(employee_counts.isnull().sum())\n",
        "print(company_industries.isnull().sum())\n",
        "print(job_industries.isnull().sum())\n",
        "print(skills.isnull().sum())"
      ]
    },
    {
      "cell_type": "markdown",
      "metadata": {
        "id": "2_BSobSmdvno"
      },
      "source": [
        "# **Data Manipulation**"
      ]
    },
    {
      "cell_type": "markdown",
      "metadata": {
        "id": "lszBOCp5VK2v"
      },
      "source": [
        "## Steps:\n",
        "**1. Handle missing values:**\n",
        "\n",
        "**2.Filtering out rows:**\n",
        "\n",
        "**3. Merge dataframes:**\n",
        "\n",
        "**4.create new columns**"
      ]
    },
    {
      "cell_type": "markdown",
      "metadata": {
        "id": "o0orpRDzzcht"
      },
      "source": [
        "1. The data has been successfully imported and displayed in the notebook.\n",
        "2. Datasets have been successfully merged\n",
        "3. The data is in a 'tidy' and usable format. In other words, you have created one dataset that can be used for analysis. This might involve cleaning the data, dealing with missing values, creating new columns based on existing data, etc.\n",
        "4. The ability to perform some basic data manipulation techniques. This might include creating new columns, filtering out rows, or other techniques that you have learned in class.\n",
        "5. The ability to use the tools we have learned in class to visualize your data in some appropriate way. This might include using libraries like matplotlib or seaborn to create plots, or using pandas to group data in a variety of ways.\n",
        "6. You should demonstrate that you are able to produce a summary of the data, in a format that is easy to read and understand.\n"
      ]
    },
    {
      "cell_type": "code",
      "execution_count": null,
      "metadata": {
        "id": "6HBGWlvfzMs0"
      },
      "outputs": [],
      "source": [
        "# 1. Handle missing values\n"
      ]
    },
    {
      "cell_type": "code",
      "execution_count": null,
      "metadata": {
        "id": "6IGydGItzPR-"
      },
      "outputs": [],
      "source": [
        "# 2. Filtering out rows"
      ]
    },
    {
      "cell_type": "code",
      "execution_count": null,
      "metadata": {
        "id": "PC_m1zSv7CLt"
      },
      "outputs": [],
      "source": [
        "# 3. Merge dataframes"
      ]
    },
    {
      "cell_type": "code",
      "execution_count": null,
      "metadata": {
        "id": "eVsR8H4Y7Hem"
      },
      "outputs": [],
      "source": [
        "# 4. Create new columns"
      ]
    },
    {
      "cell_type": "markdown",
      "metadata": {
        "id": "rp3lQ8yUd0MP"
      },
      "source": [
        "# **Data visualization**"
      ]
    },
    {
      "cell_type": "code",
      "execution_count": null,
      "metadata": {
        "id": "9w6bBYBsfNBc"
      },
      "outputs": [],
      "source": [
        "# 1."
      ]
    },
    {
      "cell_type": "markdown",
      "metadata": {
        "id": "h9G_FtDYK0pX"
      },
      "source": [
        "# **Reference**"
      ]
    },
    {
      "cell_type": "markdown",
      "metadata": {
        "id": "D0IEME9IK7Tg"
      },
      "source": [
        "https://www.kaggle.com/code/muhammadrifqimaruf/top10-recommendation-linkedin-job-posting\n",
        "\n"
      ]
    }
  ],
  "metadata": {
    "colab": {
      "provenance": []
    },
    "kernelspec": {
      "display_name": "Python 3",
      "language": "python",
      "name": "python3"
    },
    "language_info": {
      "codemirror_mode": {
        "name": "ipython",
        "version": 3
      },
      "file_extension": ".py",
      "mimetype": "text/x-python",
      "name": "python",
      "nbconvert_exporter": "python",
      "pygments_lexer": "ipython3",
      "version": "3.12.1"
    }
  },
  "nbformat": 4,
  "nbformat_minor": 0
}
