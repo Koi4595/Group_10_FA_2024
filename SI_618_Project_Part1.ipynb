{
  "cells": [
    {
      "cell_type": "markdown",
      "metadata": {
        "id": "IFJRTOWhZbVq"
      },
      "source": [
        "# **Project Title: Make Job Hunting Easier: LinkedIn Job Recommendation Based on Applicants' Description**\n",
        "\n",
        "team member: Shaoying Zheng, Zhongrui Ning, Xiao Pu\n"
      ]
    },
    {
      "cell_type": "markdown",
      "metadata": {
        "id": "mM6suXKOa2EZ"
      },
      "source": [
        "# **Overview**"
      ]
    },
    {
      "cell_type": "markdown",
      "metadata": {
        "id": "-mEgdENYbbsC"
      },
      "source": [
        "Our project hopes to match the most suitable job in the LinkedIn system with the information provided by the applicant, including their education, skills, ideal industry, ideal salary, etc. Ideally, the model we build will be adaptive, it can adjust and provide suitable job matches even with incomplete details."
      ]
    },
    {
      "cell_type": "markdown",
      "metadata": {
        "id": "ZoBlFkfZdHm5"
      },
      "source": [
        "# **Motivation**"
      ]
    },
    {
      "cell_type": "markdown",
      "metadata": {
        "id": "67nDosfpL-cb"
      },
      "source": [
        "Job hunting process for college students is daunting, especially in today's rapidly evolving labor market, where new-graduate job seekers are faced with an overwhelming number of job postings. When going through job application websites or apps like LinkedIn, many applicants spend a considerable amount of time filtering through irrelevant or unsuitable jobs, leading to inefficiency and frustration. Therefore, developing a smart, data-driven recommendation system that can make job hunting more personalized, efficient, and tailored to each individual's profile would provide immense value to job seekers.\n",
        "\n",
        "Here are several specific questions we aim to explore:\n",
        "1. What are the most common skills listed in job postings across various industries?\n",
        "\n",
        "    What we hope to learn: By identifying the most frequently mentioned skills, we hope to find some \"universal\" skills in this era.\n",
        "\n",
        "2. How do job requirements vary across different industries?\n",
        "\n",
        "    What we hope to learn: We hope to identify the unique skills and qualifications required in different industries, which can help job seekers better understand the job market and make informed decisions.\n",
        "\n",
        "3. How could job hunters with different background find suitable jobs?\n",
        "  \n",
        "    What we hope to learn: We hope to build a model that can provide job recommendations based on the applicant's background information, such as education, skills, and industry preference. Also, we hope to explore how the model can adapt to incomplete information.\n",
        "\n",
        "\n",
        "\n"
      ]
    },
    {
      "cell_type": "markdown",
      "metadata": {
        "id": "atZYy3eDblyo"
      },
      "source": [
        "# **Data Sources**"
      ]
    },
    {
      "cell_type": "markdown",
      "metadata": {
        "id": "peHyI7EMIiH9"
      },
      "source": [
        "Source: LinkedIn Job Postings (2023 - 2024)\n",
        "- A Snapshot Into the Current Job Market including company, jobs and mapping datasets.\n",
        "https://www.kaggle.com/datasets/arshkon/linkedin-job-postingslo\n",
        "This data source contains a nearly comprehensive record of 124,000+ job postings listed in 2023 and 2024. Each individual posting contains dozens of valuable attributes for both postings and companies, including the title, job description, salary, location, application URL, and work-types (remote, contract, etc), in addition to separate files containing the benefits, skills, and industries associated with each posting.\n"
      ]
    },
    {
      "cell_type": "markdown",
      "metadata": {
        "id": "L5ST87JRbvyv"
      },
      "source": [
        "# **Data description**"
      ]
    },
    {
      "cell_type": "markdown",
      "metadata": {
        "id": "0NLblAkTfcIg"
      },
      "source": []
    },
    {
      "cell_type": "code",
      "execution_count": 2,
      "metadata": {
        "id": "vqAMhax9b2bD"
      },
      "outputs": [],
      "source": [
        "import pandas as pd\n",
        "import numpy as np\n",
        "import matplotlib.pyplot as plt\n",
        "import seaborn as sns\n",
        "import os"
      ]
    },
    {
      "cell_type": "code",
      "execution_count": 7,
      "metadata": {
        "id": "iBaeKTITd3AK"
      },
      "outputs": [],
      "source": [
        "# import the csv files and save as pd dataframes\n",
        "companies = pd.read_csv('./Projectdata/company/companies.csv',usecols=['company_id','name','company_size','country'])\n",
        "company_industries = pd.read_csv('./Projectdata/company/company_industries.csv', usecols=['company_id','industry'])\n",
        "employee_counts = pd.read_csv('./Projectdata/company/employee_counts.csv', usecols=['company_id','employee_count', 'follower_count'])\n",
        "skills = pd.read_csv('./Projectdata/mappings/skills.csv', usecols=['skill_abr','skill_name'] )\n",
        "industries = pd.read_csv('./Projectdata/mappings/industries.csv', usecols=['industry_id','industry_name'])\n",
        "job_skills = pd.read_csv('./Projectdata/jobs/job_skills.csv', usecols=['job_id','skill_abr'])\n",
        "job_industries = pd.read_csv('./Projectdata/jobs/job_industries.csv', usecols=['job_id','industry_id'])\n",
        "salaries = pd.read_csv('./Projectdata/jobs/salaries.csv', usecols=['job_id','max_salary','min_salary','med_salary','pay_period'])"
      ]
    },
    {
      "cell_type": "code",
      "execution_count": null,
      "metadata": {},
      "outputs": [],
      "source": [
        "# Because original posting data is too large, we will only use a subset of the data\n",
        "\n",
        "# job_company_id = pd.read_csv('./Projectdata/postings.csv', usecols=['job_id','company_id'])\n",
        "# job_company_id.to_csv('./Projectdata/job_company_id.csv', index=False)"
      ]
    },
    {
      "cell_type": "markdown",
      "metadata": {},
      "source": [
        "Here is how the data is structured:\n",
        "![image.png](SI_618_proj_ERD.png)"
      ]
    },
    {
      "cell_type": "code",
      "execution_count": 13,
      "metadata": {
        "colab": {
          "base_uri": "https://localhost:8080/"
        },
        "id": "Rxy3dQpMU0yV",
        "outputId": "c3227301-6db7-4aa4-91ec-64cda558a40b"
      },
      "outputs": [],
      "source": [
        "# Make sure IDs are not null in all tables, and make sure keys (first column in each table) are unique\n",
        "for table in [companies, company_industries, employee_counts, skills, industries, job_skills, job_industries, salaries]:\n",
        "    id_fields = [col for col in table.columns if col.endswith('_id')]\n",
        "    for field in id_fields:\n",
        "        if field in table.columns:\n",
        "            assert table[field].isnull().sum() == 0"
      ]
    },
    {
      "cell_type": "code",
      "execution_count": 14,
      "metadata": {},
      "outputs": [
        {
          "data": {
            "text/html": [
              "<div>\n",
              "<style scoped>\n",
              "    .dataframe tbody tr th:only-of-type {\n",
              "        vertical-align: middle;\n",
              "    }\n",
              "\n",
              "    .dataframe tbody tr th {\n",
              "        vertical-align: top;\n",
              "    }\n",
              "\n",
              "    .dataframe thead th {\n",
              "        text-align: right;\n",
              "    }\n",
              "</style>\n",
              "<table border=\"1\" class=\"dataframe\">\n",
              "  <thead>\n",
              "    <tr style=\"text-align: right;\">\n",
              "      <th></th>\n",
              "      <th>job_id</th>\n",
              "      <th>skill_abr</th>\n",
              "      <th>skill_name</th>\n",
              "    </tr>\n",
              "  </thead>\n",
              "  <tbody>\n",
              "    <tr>\n",
              "      <th>0</th>\n",
              "      <td>3884428798</td>\n",
              "      <td>MRKT</td>\n",
              "      <td>Marketing</td>\n",
              "    </tr>\n",
              "    <tr>\n",
              "      <th>1</th>\n",
              "      <td>3884428798</td>\n",
              "      <td>PR</td>\n",
              "      <td>Public Relations</td>\n",
              "    </tr>\n",
              "    <tr>\n",
              "      <th>2</th>\n",
              "      <td>3884428798</td>\n",
              "      <td>WRT</td>\n",
              "      <td>Writing/Editing</td>\n",
              "    </tr>\n",
              "    <tr>\n",
              "      <th>3</th>\n",
              "      <td>3887473071</td>\n",
              "      <td>SALE</td>\n",
              "      <td>Sales</td>\n",
              "    </tr>\n",
              "    <tr>\n",
              "      <th>4</th>\n",
              "      <td>3887465684</td>\n",
              "      <td>FIN</td>\n",
              "      <td>Finance</td>\n",
              "    </tr>\n",
              "    <tr>\n",
              "      <th>...</th>\n",
              "      <td>...</td>\n",
              "      <td>...</td>\n",
              "      <td>...</td>\n",
              "    </tr>\n",
              "    <tr>\n",
              "      <th>213763</th>\n",
              "      <td>3902876855</td>\n",
              "      <td>HR</td>\n",
              "      <td>Human Resources</td>\n",
              "    </tr>\n",
              "    <tr>\n",
              "      <th>213764</th>\n",
              "      <td>3902878689</td>\n",
              "      <td>MGMT</td>\n",
              "      <td>Management</td>\n",
              "    </tr>\n",
              "    <tr>\n",
              "      <th>213765</th>\n",
              "      <td>3902878689</td>\n",
              "      <td>MNFC</td>\n",
              "      <td>Manufacturing</td>\n",
              "    </tr>\n",
              "    <tr>\n",
              "      <th>213766</th>\n",
              "      <td>3902883233</td>\n",
              "      <td>SALE</td>\n",
              "      <td>Sales</td>\n",
              "    </tr>\n",
              "    <tr>\n",
              "      <th>213767</th>\n",
              "      <td>3902883233</td>\n",
              "      <td>MGMT</td>\n",
              "      <td>Management</td>\n",
              "    </tr>\n",
              "  </tbody>\n",
              "</table>\n",
              "<p>213768 rows × 3 columns</p>\n",
              "</div>"
            ],
            "text/plain": [
              "            job_id skill_abr        skill_name\n",
              "0       3884428798      MRKT         Marketing\n",
              "1       3884428798        PR  Public Relations\n",
              "2       3884428798       WRT   Writing/Editing\n",
              "3       3887473071      SALE             Sales\n",
              "4       3887465684       FIN           Finance\n",
              "...            ...       ...               ...\n",
              "213763  3902876855        HR   Human Resources\n",
              "213764  3902878689      MGMT        Management\n",
              "213765  3902878689      MNFC     Manufacturing\n",
              "213766  3902883233      SALE             Sales\n",
              "213767  3902883233      MGMT        Management\n",
              "\n",
              "[213768 rows x 3 columns]"
            ]
          },
          "execution_count": 14,
          "metadata": {},
          "output_type": "execute_result"
        }
      ],
      "source": [
        "# First, merge all dataframes related to jobs\n",
        "job_skills = job_skills.merge(skills, on='skill_abr')"
      ]
    },
    {
      "cell_type": "markdown",
      "metadata": {
        "id": "2_BSobSmdvno"
      },
      "source": [
        "# **Data Manipulation**"
      ]
    },
    {
      "cell_type": "markdown",
      "metadata": {
        "id": "lszBOCp5VK2v"
      },
      "source": [
        "## Steps:\n",
        "**1. Handle missing values:**\n",
        "\n",
        "**2.Standardize Format:**\n",
        "\n",
        "**3. Merge dataframes:**\n",
        "\n",
        "**4.create new columns**"
      ]
    },
    {
      "cell_type": "markdown",
      "metadata": {
        "id": "rp3lQ8yUd0MP"
      },
      "source": [
        "# **Data visualization**"
      ]
    },
    {
      "cell_type": "code",
      "execution_count": null,
      "metadata": {
        "id": "9w6bBYBsfNBc"
      },
      "outputs": [],
      "source": [
        "# 1."
      ]
    },
    {
      "cell_type": "markdown",
      "metadata": {
        "id": "h9G_FtDYK0pX"
      },
      "source": [
        "# **Reference**"
      ]
    },
    {
      "cell_type": "markdown",
      "metadata": {
        "id": "D0IEME9IK7Tg"
      },
      "source": [
        "https://www.kaggle.com/code/muhammadrifqimaruf/top10-recommendation-linkedin-job-posting\n",
        "\n"
      ]
    }
  ],
  "metadata": {
    "colab": {
      "provenance": []
    },
    "kernelspec": {
      "display_name": "si618",
      "language": "python",
      "name": "python3"
    },
    "language_info": {
      "codemirror_mode": {
        "name": "ipython",
        "version": 3
      },
      "file_extension": ".py",
      "mimetype": "text/x-python",
      "name": "python",
      "nbconvert_exporter": "python",
      "pygments_lexer": "ipython3",
      "version": "3.12.5"
    }
  },
  "nbformat": 4,
  "nbformat_minor": 0
}
